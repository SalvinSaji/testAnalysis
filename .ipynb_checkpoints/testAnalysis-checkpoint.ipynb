{
 "cells": [
  {
   "cell_type": "code",
   "execution_count": 1,
   "id": "9e394518",
   "metadata": {},
   "outputs": [],
   "source": [
    "import pandas as pd"
   ]
  },
  {
   "cell_type": "code",
   "execution_count": null,
   "id": "9490693f",
   "metadata": {},
   "outputs": [],
   "source": [
    "df = pd.read_csv(\"sampledata.csv\")"
   ]
  },
  {
   "cell_type": "code",
   "execution_count": null,
   "id": "9bbe1781",
   "metadata": {},
   "outputs": [],
   "source": [
    "df.shape"
   ]
  },
  {
   "cell_type": "code",
   "execution_count": null,
   "id": "7502bf91",
   "metadata": {},
   "outputs": [],
   "source": [
    "pd.set_option('display.max_columns',81)"
   ]
  },
  {
   "cell_type": "code",
   "execution_count": null,
   "id": "f6f23701",
   "metadata": {},
   "outputs": [],
   "source": [
    "df"
   ]
  },
  {
   "cell_type": "code",
   "execution_count": null,
   "id": "1ecef779",
   "metadata": {},
   "outputs": [],
   "source": [
    "chem = df.iloc[0:len(df),6:31]\n",
    "phy = df.iloc[0:len(df),31:56]\n",
    "mat = df.iloc[0:len(df),56:81]\n",
    "tot = df.iloc[0:len(df),6:81]"
   ]
  },
  {
   "cell_type": "code",
   "execution_count": null,
   "id": "3fbd0de2",
   "metadata": {},
   "outputs": [],
   "source": [
    "df['chem'] = chem.astype(float).sum(axis = 1)\n",
    "df['phy'] = phy.astype(float).sum(axis = 1)\n",
    "df['mat'] = mat.astype(float).sum(axis = 1)\n",
    "df['total'] = tot.astype(float).sum(axis = 1)"
   ]
  },
  {
   "cell_type": "code",
   "execution_count": null,
   "id": "0db72c59",
   "metadata": {},
   "outputs": [],
   "source": [
    "df.sort_values(by = 'total',inplace = True, ascending = False)"
   ]
  },
  {
   "cell_type": "code",
   "execution_count": null,
   "id": "e846868d",
   "metadata": {},
   "outputs": [],
   "source": [
    "df"
   ]
  },
  {
   "cell_type": "code",
   "execution_count": null,
   "id": "a539bfe0",
   "metadata": {},
   "outputs": [],
   "source": [
    "percentile = []\n",
    "for t in range(len(df)):\n",
    "    percentile.append(((len(df)-t)/len(df)) *100)\n",
    "percentile"
   ]
  },
  {
   "cell_type": "code",
   "execution_count": null,
   "id": "f8a5e8d9",
   "metadata": {},
   "outputs": [],
   "source": [
    "df['percentile'] = percentile\n",
    "df"
   ]
  },
  {
   "cell_type": "code",
   "execution_count": null,
   "id": "f8a39e63",
   "metadata": {},
   "outputs": [],
   "source": [
    "sub = ['chem','phy','mat']\n",
    "for i in sub:\n",
    "    df.sort_values(by = i,ascending = False,inplace = True)\n",
    "    percentile = []\n",
    "    for t in range(len(df)):\n",
    "        percentile.append((len(df) - t)*100/len(df))\n",
    "    s = i + 'percentile'\n",
    "    df[s] = percentile\n"
   ]
  },
  {
   "cell_type": "code",
   "execution_count": null,
   "id": "492ddeb8",
   "metadata": {
    "scrolled": false
   },
   "outputs": [],
   "source": [
    "df"
   ]
  },
  {
   "cell_type": "code",
   "execution_count": null,
   "id": "522337cb",
   "metadata": {},
   "outputs": [],
   "source": [
    "import matplotlib.pyplot as plt\n",
    "import seaborn as sn"
   ]
  },
  {
   "cell_type": "code",
   "execution_count": null,
   "id": "7ceff446",
   "metadata": {
    "scrolled": true
   },
   "outputs": [],
   "source": [
    "totAvg = df['total'].mean()\n",
    "totMax = df['total'].max()\n",
    "x1 = ['Your Mark','Average','Max Mark']\n",
    "def graph(x):\n",
    "    plt.cla()\n",
    "    fname = df.iloc[x][2]\n",
    "    sname = df.iloc[x][1]\n",
    "    totMark = df.iloc[x][5]\n",
    "    y1 = [totMark,totAvg,totMax]\n",
    "    Data = {'stats':['Average','Maximum','Your Mark'],'value':[totAvg,totMax,totMark]}\n",
    "    sn.set_context('paper',font_scale = 1.5)\n",
    "    sn.barplot(x = 'stats' , y = 'value' , data = Data)\n",
    "    plt.savefig(fname +\" \"+sname+str(x)+\".png\")\n",
    "\n",
    "for k in range(len(df)):\n",
    "    graph(k)"
   ]
  },
  {
   "cell_type": "code",
   "execution_count": null,
   "id": "0e41e126",
   "metadata": {},
   "outputs": [],
   "source": [
    "def accuracy(df,x):\n",
    "    indMark = df.iloc[x,6:81].astype(float).tolist()\n",
    "    right = indMark.count(4)\n",
    "    wrong = indMark.count(-1)\n",
    "    acc = right*100/(right+wrong)\n",
    "    return (acc)\n",
    "\n",
    "accuracy(df,0)"
   ]
  },
  {
   "cell_type": "code",
   "execution_count": null,
   "id": "b75271f6",
   "metadata": {
    "scrolled": true
   },
   "outputs": [],
   "source": [
    "import numpy as np\n",
    "time = df.iloc[:,4].tolist()\n",
    "k = []\n",
    "for x in time:\n",
    "    if len(x.split()) > 2:\n",
    "        t = 60*int(x.split()[0]) + int(x.split()[2])\n",
    "    else:\n",
    "        t = 60*int(x.split()[0])\n",
    "    k.append(t)\n",
    "\n",
    "marks=df.iloc[:,5].astype(float).tolist()\n",
    "Data={'Time Taken (in minutes)':k,'Marks':marks}\n",
    "plt.figure(figsize=(20,10))\n",
    "ax=sn.lineplot(x=\"Time Taken (in minutes)\",y=\"Marks\",data=Data)\n",
    "plt.savefig('timeplot.png')\n",
    "#start, end = ax.get_xlim()\n",
    "#ax.xaxis.set_ticks(np.arange(start, end, 10))"
   ]
  },
  {
   "cell_type": "code",
   "execution_count": null,
   "id": "09c93be3",
   "metadata": {},
   "outputs": [],
   "source": [
    "df"
   ]
  },
  {
   "cell_type": "code",
   "execution_count": null,
   "id": "55d1aa2a",
   "metadata": {},
   "outputs": [],
   "source": [
    "def totxt(x):\n",
    "  fname=df.iloc[x,2]\n",
    "  lname=df.iloc[x,1]\n",
    "  f = open(fname +\" \"+lname+str(x)+\".txt\", \"w\")\n",
    "  f.write(\"Hello,\"+fname+\". ISTE NITC Chapter hopes you are safe and well prepared for your examinations up ahead. Here is the detailed analysis of your JEEnius 2023 attempt.<br><br>\")\n",
    "  f.write(\"<br>\\nYou scored a total of \"+str(df.iloc[x,5])+\" out of 300, you can see how you compare with the others by looking at the attached bar graph.<br><br>\")\n",
    "  \n",
    "  f.write(\"<br>\\nPercentile Scored : \"+str(df.iloc[x,85]))\n",
    "  f.write(\"<br>\\nIndividual Marks:\")\n",
    "  f.write(\"<br>\\n \\tMath : \"+str(df.iloc[x,83]))\n",
    "  f.write(\"<br>\\n \\t\\tMath Percentile : \"+str(df.iloc[x,88]))\n",
    "  f.write(\"<br>\\n \\tPhysics : \"+str(df.iloc[x,82]))\n",
    "  f.write(\"<br>\\n\\t\\tPhysics Percentile : \"+str(df.iloc[x,87]))\n",
    "  f.write(\"<br>\\n\\tChemistry : \"+str(df.iloc[x,81]))  \n",
    "  f.write(\"<br>\\n\\t\\tChemistry Percentile : \"+str(df.iloc[x,86]))\n",
    "\n",
    "  f.write(\"<br>\\nYou had an accurracy of \"+str(accuracy(df,x))[:4]+\"%\")\n",
    "  f.write(\"<br>\\nISTE NITC Students' Chapter wishes you all the best for JEE Mains 2023!\")\n",
    "  f.close()\n",
    "\n",
    "for k in range(len(df)):\n",
    "    totxt(k)"
   ]
  },
  {
   "cell_type": "code",
   "execution_count": null,
   "id": "6e94854b",
   "metadata": {
    "scrolled": true
   },
   "outputs": [],
   "source": [
    "df"
   ]
  },
  {
   "cell_type": "code",
   "execution_count": null,
   "id": "f91393cd",
   "metadata": {},
   "outputs": [],
   "source": [
    "mlist = df.iloc[:,3].tolist()\n",
    "mlist\n",
    "flist = df.iloc[:,2].tolist()\n",
    "llist = df.iloc[:,1].tolist()"
   ]
  },
  {
   "cell_type": "code",
   "execution_count": null,
   "id": "acd8e9ba",
   "metadata": {},
   "outputs": [],
   "source": [
    "llist"
   ]
  },
  {
   "cell_type": "code",
   "execution_count": null,
   "id": "22142564",
   "metadata": {},
   "outputs": [],
   "source": [
    "import smtplib\n",
    "import imghdr\n",
    "from string import Template\n",
    "from email.message import EmailMessage\n",
    "\n",
    "#MY_ADDRESS = 'iste-nitc@nitc.ac.in'\n",
    "#PASSWORD = 'mullaishub'\n",
    "MY_ADDRESS = 'spamsaluzz@gmail.com'\n",
    "PASSWORD = 'tcwxhhhrajnwrnnl'\n",
    "\n",
    "def read_template(filename):\n",
    "    mfile = open(filename)\n",
    "    msg = mfile.read()\n",
    "    return msg\n",
    "\n",
    "    \n",
    "def main():\n",
    "    # Read contacts\n",
    "    names, emails = [], []\n",
    "\n",
    "    # Set up the SMTP server\n",
    "    s = smtplib.SMTP(host='smtp.gmail.com', port=587)\n",
    "    s.starttls()\n",
    "    s.login(MY_ADDRESS, PASSWORD)\n",
    "\n",
    "    # For each contact, send the email:\n",
    "    \n",
    "    for x in range(len(mlist)):\n",
    "        email = mlist[x]\n",
    "        msg = EmailMessage()  # create a message\n",
    "\n",
    "        # Add in the actual person name to the message template\n",
    "        message = read_template(flist[x] +\" \"+llist[x]+str(x)+\".txt\")\n",
    "\n",
    "        # Setup the parameters of the message\n",
    "        msg['From'] = MY_ADDRESS\n",
    "        msg['To'] = email.rstrip('\\n')\n",
    "        msg['Subject'] = \"JEEnius 2023 result\"\n",
    "\n",
    "        # Add in the message body\n",
    "        msg.set_content(message,\"html\")\n",
    "        with open(flist[x] +\" \"+llist[x]+str(x)+\".png\", 'rb') as f:\n",
    "            file_data = f.read()\n",
    "            file_type = imghdr.what(f.name)\n",
    "            file_name = f.name\n",
    "        msg.add_attachment(file_data, maintype='image', subtype=file_type, filename=file_name)\n",
    "        \n",
    "        with open('timeplot.png', 'rb') as f:\n",
    "            file_data = f.read()\n",
    "            file_type = imghdr.what(f.name)\n",
    "            file_name = f.name\n",
    "        msg.add_attachment(file_data, maintype='image', subtype=file_type, filename=file_name)\n",
    "        \n",
    "        # Send the message via the server set up earlier.\n",
    "        s.send_message(msg)\n",
    "        print(\"Message sent to\", email)\n",
    "        del msg\n",
    "\n",
    "    # Terminate the SMTP session and close the connection\n",
    "    s.quit()\n",
    "\n",
    "\n",
    "if __name__ == '__main__':\n",
    "    main()"
   ]
  },
  {
   "cell_type": "code",
   "execution_count": null,
   "id": "82f3751d",
   "metadata": {},
   "outputs": [],
   "source": []
  }
 ],
 "metadata": {
  "kernelspec": {
   "display_name": "Python 3 (ipykernel)",
   "language": "python",
   "name": "python3"
  },
  "language_info": {
   "codemirror_mode": {
    "name": "ipython",
    "version": 3
   },
   "file_extension": ".py",
   "mimetype": "text/x-python",
   "name": "python",
   "nbconvert_exporter": "python",
   "pygments_lexer": "ipython3",
   "version": "3.9.7"
  }
 },
 "nbformat": 4,
 "nbformat_minor": 5
}
